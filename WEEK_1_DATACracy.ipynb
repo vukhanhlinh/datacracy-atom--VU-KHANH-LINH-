{
  "nbformat": 4,
  "nbformat_minor": 0,
  "metadata": {
    "colab": {
      "name": "WEEK 1.ipynb",
      "provenance": [],
      "collapsed_sections": [],
      "authorship_tag": "ABX9TyOOLlnh6Z2FHqMJ7aG9vOdi",
      "include_colab_link": true
    },
    "kernelspec": {
      "name": "python3",
      "display_name": "Python 3"
    },
    "language_info": {
      "name": "python"
    }
  },
  "cells": [
    {
      "cell_type": "markdown",
      "metadata": {
        "id": "view-in-github",
        "colab_type": "text"
      },
      "source": [
        "<a href=\"https://colab.research.google.com/github/vukhanhlinh/datacracy-atom--VU-KHANH-LINH-/blob/main/WEEK_1_DATACracy.ipynb\" target=\"_parent\"><img src=\"https://colab.research.google.com/assets/colab-badge.svg\" alt=\"Open In Colab\"/></a>"
      ]
    },
    {
      "cell_type": "code",
      "metadata": {
        "id": "svkQ21bP9AxB"
      },
      "source": [
        ""
      ],
      "execution_count": null,
      "outputs": []
    },
    {
      "cell_type": "markdown",
      "metadata": {
        "id": "TsumtNZS9BZE"
      },
      "source": [
        "Python Basic - Your First Program"
      ]
    },
    {
      "cell_type": "code",
      "metadata": {
        "colab": {
          "base_uri": "https://localhost:8080/"
        },
        "id": "84hQfVtZ9Elu",
        "outputId": "8208f3cd-597e-404e-8cb0-010f96a11dbd"
      },
      "source": [
        " # This program says hello and asks for my name.\n",
        " print('Hello, world!') \n",
        " print('What is your name?') # ask for their name\n",
        "myName = input()\n",
        "print('It is good to meet you, ' + myName)\n",
        "print('The length of your name is:') \n",
        "print(len(myName)) \n",
        "print('What is your age?') # ask for their age \n",
        "myAge = input() \n",
        "print('You will be ' + str(int(myAge) + 1) + ' in a year.')"
      ],
      "execution_count": null,
      "outputs": [
        {
          "output_type": "stream",
          "text": [
            "Hello, world!\n",
            "What is your name?\n",
            "Linh\n",
            "It is good to meet you, Linh\n",
            "The length of your name is:\n",
            "4\n",
            "What is your age?\n",
            "22\n",
            "You will be 23 in a year.\n"
          ],
          "name": "stdout"
        }
      ]
    },
    {
      "cell_type": "markdown",
      "metadata": {
        "id": "7RvispHT-lhE"
      },
      "source": [
        "Flow Control - A Short Program: Rock, Paper, Scissors"
      ]
    },
    {
      "cell_type": "code",
      "metadata": {
        "id": "vmQnisGcEHGQ",
        "colab": {
          "base_uri": "https://localhost:8080/"
        },
        "outputId": "ff139e76-df62-4be6-85ea-ad84244048c7"
      },
      "source": [
        "import random, sys\n",
        "\n",
        "print(\"ROCK, PAPER, SCISSORS\")\n",
        "                     \n",
        "#keeping track\n",
        "wins = 0\n",
        "losses = 0\n",
        "ties = 0\n",
        "\n",
        "while True: #The loop of game\n",
        "  print('%s Wins, %s Losses, %s Ties' % (wins, losses, ties))\n",
        "  while True: \n",
        "    print('Enter your move: (r)ock (p)aper (s)cissors or (q)uit')\n",
        "    playerMove = input()\n",
        "    if playerMove == \"q\":\n",
        "      print ('You are quite the game')\n",
        "      sys.exit()  # Quite the program\n",
        "    if playerMove == \"r\" or playerMove == \"p\" or playerMove == \"s\":\n",
        "      break # Break out of input loop\n",
        "    print('Type one of r, p, s, or q.')\n",
        "\n",
        "# Display what player chose\n",
        "  if playerMove == 'r':\n",
        "      print('ROCK versus...')\n",
        "  elif playerMove == 'p':\n",
        "      print('PAPER versus...')\n",
        "  elif playerMove == 's':\n",
        "      print('SCISSORS versus...')\n",
        "\n",
        "# Display what computer chose\n",
        "randomNum = random.randint(1, 3)\n",
        "if randomNum == 1:\n",
        "    computerMove = 'r'\n",
        "    print('Computer Move: ROCK')\n",
        "elif randomNum == 2:\n",
        "      computerMove = 'p'\n",
        "      print('Computer Move: PAPER')\n",
        "elif randomNum == 3:\n",
        "      computerMove = 's'\n",
        "      print('Computer Move: SCISSORS')\n",
        "\n",
        "  # Display and record\n",
        "if playerMove == computerMove:\n",
        "      print ('It is Tie!')\n",
        "      ties = ties + 1\n",
        "elif playerMove == 'r' and computerMove == 's':\n",
        "      print ('You are Win')\n",
        "      wins = wins + 1\n",
        "elif playerMove == 's' and computerMove == 'p':\n",
        "      print ('You are Win')\n",
        "      wins = wins + 1\n",
        "elif playerMove == 'p' and computerMove == 'r':\n",
        "      print ('You are Win')\n",
        "      wins = wins + 1\n",
        "elif playerMove == 'r' and computerMove == 'p':\n",
        "      print ('You are Lose')\n",
        "      losses = loses + 1\n",
        "elif playerMove == 'p' and computerMove == 's':\n",
        "      print ('You are Lose')\n",
        "      losses = loses + 1\n",
        "elif playerMove == 's' and computerMove == 'r':\n",
        "      print ('You are Lose')\n",
        "      losses = loses + 1\n",
        "  "
      ],
      "execution_count": null,
      "outputs": [
        {
          "output_type": "stream",
          "text": [
            "ROCK, PAPER, SCISSORS\n",
            "0 Wins, 0 Losses, 0 Ties\n",
            "Enter your move: (r)ock (p)aper (s)cissors or (q)uit\n",
            "p\n",
            "PAPER versus...\n",
            "0 Wins, 0 Losses, 0 Ties\n",
            "Enter your move: (r)ock (p)aper (s)cissors or (q)uit\n"
          ],
          "name": "stdout"
        }
      ]
    },
    {
      "cell_type": "code",
      "metadata": {
        "id": "nkdGCIKlDawz"
      },
      "source": [
        ""
      ],
      "execution_count": null,
      "outputs": []
    }
  ]
}